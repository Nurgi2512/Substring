{
  "nbformat": 4,
  "nbformat_minor": 0,
  "metadata": {
    "kernelspec": {
      "display_name": "Python 3",
      "language": "python",
      "name": "python3"
    },
    "language_info": {
      "codemirror_mode": {
        "name": "ipython",
        "version": 3
      },
      "file_extension": ".py",
      "mimetype": "text/x-python",
      "name": "python",
      "nbconvert_exporter": "python",
      "pygments_lexer": "ipython3",
      "version": "3.7.0"
    },
    "colab": {
      "provenance": []
    }
  },
  "cells": [
    {
      "cell_type": "markdown",
      "metadata": {
        "id": "hhIQeEv4JdpK"
      },
      "source": [
        "## Selamat datang di Tantangan Coding Minggu ke-3!\n",
        "### Tema minggu ini adalah: String!\n",
        "\n",
        "Mulai minggu ini, metode inisialisasi fungsi tidak akan diberikan. Anda harus mencari tahu sendiri. Keep up the good work!\n",
        "\n",
        "Anda hanya perlu **menyelesaikan 2 pertanyaan**!"
      ]
    },
    {
      "cell_type": "markdown",
      "metadata": {
        "id": "ZwHc-3vSJdpj"
      },
      "source": [
        "###**Problem 1: Temukan jumlah substring.**"
      ]
    },
    {
      "cell_type": "markdown",
      "metadata": {
        "id": "_rD65MuvJdpm"
      },
      "source": [
        "Buatlah fungsi yang bernama ```substring_count``` yang dapat melakukan:\n",
        "\n",
        "Diberikan string dan substring. Hitung berapa kali substring muncul di string. Input pertama selalu berupa string (yang lebih panjang), dan input kedua selalu berupa substring (yang lebih pendek).\n",
        "\n",
        "##### Example 1:\n",
        "\n",
        "Input:\n",
        "\n",
        "string = 'ABCDCDC'\n",
        "\n",
        "substring = 'CD'\n",
        "\n",
        "Berapa kali 'CD' muncul di 'ABCDCDC'?\n",
        "2 kali! Jadi saat kita menjalankan ```substring_count('ABCDCDC', 'CD')``` hasilnya akan menjadi '2'.\n",
        "\n",
        "Output: 2\n",
        "\n",
        "##### Example 2:\n",
        "\n",
        "String:\n",
        "\n",
        "string = 'ABCDCDC'\n",
        "\n",
        "substring = 'CDC'\n",
        "\n",
        "Berapa kali 'CDC' muncul di 'ABCDCDC'?\n",
        "2 kali! Ya, itu bisa tumpang tindih. AB**CDC**DC, dan ABCD**CDC**. Jadi, saat kita menjalankan ```substring_count('ABCDCDC', 'CDC')``` hasilnya akan '2'.\n",
        "\n",
        "Output: 2\n",
        "\n",
        "##### Example 3:\n",
        "\n",
        "string = 'DEDFDEDEDEG'\n",
        "\n",
        "substring = 'DED'\n",
        "\n",
        "3 kali! Pertama: **DED**FDEDEDEG. Kedua: DEDF**DED**EDEG. Ketiga: DEDFDE**DED**EG.\n",
        "\n",
        "Output: 3"
      ]
    },
    {
      "cell_type": "code",
      "metadata": {
        "id": "-dQgvKqmJdpp",
        "colab": {
          "base_uri": "https://localhost:8080/"
        },
        "outputId": "3e5dc4f2-9ffe-4987-deba-9dfa26a45179"
      },
      "source": [
        "### Write your solution here ###\n",
        "def substring_count(string, substring):\n",
        "    count = 0\n",
        "    start_index = 0\n",
        "\n",
        "    while start_index <= len(string) - len(substring):\n",
        "        index = string.find(substring, start_index)\n",
        "\n",
        "        if index != -1:\n",
        "            count += 1\n",
        "            start_index = index + 1\n",
        "        else:\n",
        "            break\n",
        "\n",
        "    return count\n",
        "\n",
        "\n",
        "result = substring_count('ABCDCDC','CD')\n",
        "print(f\"Output: {result}\")\n",
        "\n",
        "\n"
      ],
      "execution_count": 67,
      "outputs": [
        {
          "output_type": "stream",
          "name": "stdout",
          "text": [
            "Output: 2\n"
          ]
        }
      ]
    },
    {
      "cell_type": "code",
      "metadata": {
        "id": "Um0FiJYdJdps",
        "colab": {
          "base_uri": "https://localhost:8080/"
        },
        "outputId": "f517e33f-d406-4bfb-ede3-a1f1b813e15c"
      },
      "source": [
        "substring_count('ABCDCDC', 'CDC')\n",
        "#Expected output= 2"
      ],
      "execution_count": 43,
      "outputs": [
        {
          "output_type": "execute_result",
          "data": {
            "text/plain": [
              "2"
            ]
          },
          "metadata": {},
          "execution_count": 43
        }
      ]
    },
    {
      "cell_type": "code",
      "source": [
        " result = substring_count('DEDFDEDEDEG', 'DED')\n",
        " print(f\"Output: {result}\")"
      ],
      "metadata": {
        "colab": {
          "base_uri": "https://localhost:8080/"
        },
        "id": "hB8CujWjHxDB",
        "outputId": "d76fcaca-3e74-4804-fe4e-5360ba6f57a6"
      },
      "execution_count": 65,
      "outputs": [
        {
          "output_type": "stream",
          "name": "stdout",
          "text": [
            "Output: 3\n"
          ]
        }
      ]
    },
    {
      "cell_type": "code",
      "source": [
        "def substring_count(string, subs):\n",
        "    count = 0\n",
        "    for i in range(0, len(string)):\n",
        "        potongan = string[i:i + len(subs)]\n",
        "        if potongan == subs:\n",
        "            count += 1\n",
        "    return count"
      ],
      "metadata": {
        "id": "BMRKuhvEgBvW"
      },
      "execution_count": 61,
      "outputs": []
    },
    {
      "cell_type": "code",
      "source": [
        "substring_count('ABCDCDC','CD')"
      ],
      "metadata": {
        "colab": {
          "base_uri": "https://localhost:8080/"
        },
        "id": "xDGj_of4h-i8",
        "outputId": "49de4487-b053-4f51-92fa-c6890c3e2a71"
      },
      "execution_count": 69,
      "outputs": [
        {
          "output_type": "execute_result",
          "data": {
            "text/plain": [
              "2"
            ]
          },
          "metadata": {},
          "execution_count": 69
        }
      ]
    },
    {
      "cell_type": "code",
      "source": [
        "substring_count('ABCDCDC', 'CDC')"
      ],
      "metadata": {
        "colab": {
          "base_uri": "https://localhost:8080/"
        },
        "id": "L1wFJ4Dqgpdh",
        "outputId": "6cd194bd-b85e-4a68-a454-64a8f444f9bf"
      },
      "execution_count": 62,
      "outputs": [
        {
          "output_type": "execute_result",
          "data": {
            "text/plain": [
              "2"
            ]
          },
          "metadata": {},
          "execution_count": 62
        }
      ]
    },
    {
      "cell_type": "code",
      "source": [
        "substring_count('DEDFDEDEDEG', 'DED')"
      ],
      "metadata": {
        "colab": {
          "base_uri": "https://localhost:8080/"
        },
        "id": "pjaaTAnJiJdK",
        "outputId": "404d929a-019e-4d85-8c15-d17d726854ae"
      },
      "execution_count": 70,
      "outputs": [
        {
          "output_type": "execute_result",
          "data": {
            "text/plain": [
              "3"
            ]
          },
          "metadata": {},
          "execution_count": 70
        }
      ]
    },
    {
      "cell_type": "markdown",
      "metadata": {
        "id": "kPc42YPuJdpw"
      },
      "source": [
        "###**Problem 2: Berapa banyak huruf berbeda yang ada di string?**"
      ]
    },
    {
      "cell_type": "markdown",
      "metadata": {
        "id": "YtkU_gLYJdpx"
      },
      "source": [
        "Buat fungsi yang bernama ```diff_letters``` yang menghitung jumlah huruf yang berbeda yang terdapat pada string\n",
        "\n",
        "Input hanya berupa string tunggal.\n",
        "\n",
        "##### Example 1:\n",
        "\n",
        "Input: 'AAAAAAAAAB'\n",
        "\n",
        "Karena hanya ada 2 huruf berbeda dalam string input, keluarannya adalah 2.\n",
        "\n",
        "Saat kita menjalankan ```diff_letters```, outputnya adalah '2'.\n",
        "\n",
        "Output: 2\n",
        "\n",
        "##### Example 2:\n",
        "\n",
        "Input: 'ABCDAAAABBCCCE'\n",
        "\n",
        "Karena ada 5 huruf berbeda dalam string itu (A, B, C, D, E), hasilnya adalah 5.\n",
        "\n",
        "Output: 5"
      ]
    },
    {
      "cell_type": "code",
      "metadata": {
        "id": "uQkNjT2kJdpz",
        "colab": {
          "base_uri": "https://localhost:8080/"
        },
        "outputId": "8d2e5a2d-9432-4d03-fdcf-23adc5f76667"
      },
      "source": [
        "### Write your code here ###\n",
        "def diff_letters(input_string):\n",
        "    unique_letters = set(input_string)\n",
        "    return len(unique_letters)\n",
        "\n",
        "\n",
        "input_str = 'AAAAAAAAAB'\n",
        "result = diff_letters(input_str)\n",
        "print(f\"Output: {result}\")\n"
      ],
      "execution_count": 10,
      "outputs": [
        {
          "output_type": "stream",
          "name": "stdout",
          "text": [
            "Output: 2\n"
          ]
        }
      ]
    },
    {
      "cell_type": "code",
      "metadata": {
        "id": "_BAImneoJdp0",
        "colab": {
          "base_uri": "https://localhost:8080/"
        },
        "outputId": "e26a5df2-4f43-4a69-a742-e392ba855988"
      },
      "source": [
        "input_str = 'ABCDAAAABBCCCE'\n",
        "result = diff_letters(input_str)\n",
        "print(f\"Output: {result}\")"
      ],
      "execution_count": 11,
      "outputs": [
        {
          "output_type": "stream",
          "name": "stdout",
          "text": [
            "Output: 5\n"
          ]
        }
      ]
    },
    {
      "cell_type": "code",
      "metadata": {
        "id": "GZG7-n3xJdp0",
        "colab": {
          "base_uri": "https://localhost:8080/"
        },
        "outputId": "d9dc3454-8530-4e7c-ad3f-71a5d71c1dea"
      },
      "source": [
        "input_str = 'ABCDAAAABBCCCENWKLDDIITJDDTTDFGGGANR'\n",
        "result = diff_letters(input_str)\n",
        "print(f\"Output: {result}\")"
      ],
      "execution_count": 12,
      "outputs": [
        {
          "output_type": "stream",
          "name": "stdout",
          "text": [
            "Output: 15\n"
          ]
        }
      ]
    },
    {
      "cell_type": "code",
      "source": [
        "def diff_letters(string):\n",
        "    liststring = [x for x in string]\n",
        "    setstring = set(liststring)\n",
        "    return len(setstring)"
      ],
      "metadata": {
        "id": "laeqlR5liYum"
      },
      "execution_count": 71,
      "outputs": []
    },
    {
      "cell_type": "code",
      "source": [
        "diff_letters('AAAAAAAAAB')"
      ],
      "metadata": {
        "colab": {
          "base_uri": "https://localhost:8080/"
        },
        "id": "PFfrTOE2igUL",
        "outputId": "32493bd2-4262-4e4d-b6c8-4c24e83ac448"
      },
      "execution_count": 72,
      "outputs": [
        {
          "output_type": "execute_result",
          "data": {
            "text/plain": [
              "2"
            ]
          },
          "metadata": {},
          "execution_count": 72
        }
      ]
    },
    {
      "cell_type": "code",
      "source": [
        "diff_letters('ABCDAAAABBCCCE')"
      ],
      "metadata": {
        "colab": {
          "base_uri": "https://localhost:8080/"
        },
        "id": "fApJqthpixG_",
        "outputId": "dfc07985-fc78-4aa9-b420-c6399a11e691"
      },
      "execution_count": 73,
      "outputs": [
        {
          "output_type": "execute_result",
          "data": {
            "text/plain": [
              "5"
            ]
          },
          "metadata": {},
          "execution_count": 73
        }
      ]
    },
    {
      "cell_type": "markdown",
      "metadata": {
        "id": "fiXI1RgZJdp3"
      },
      "source": [
        "Problem 3: Temukan Jarak Antara Dua Koordinat - Medium"
      ]
    },
    {
      "cell_type": "markdown",
      "metadata": {
        "id": "TZx_zMmbJdp3"
      },
      "source": [
        "Buatlah fungsi yang bernama ```distance``` yang dapat melakukan:\n",
        "\n",
        "Diberikan dua koordinat dalam list. Tugas Anda adalah menghitung jarak antara kedua koordinat tersebut. Input dari fungsi Anda akan berupa string. Koordinat yang muncul pertama adalah koordinat pertama, dan koordinat yang muncul setelah koma adalah koordinat kedua.\n",
        "\n",
        "##### Example 1:\n",
        "\n",
        "Input:\n",
        "\n",
        "'(5,5), (1,2)'\n",
        "\n",
        "Artinya, koordinat titik pertama adalah (5,5), koordinat titik kedua adalah (1,2). Untuk menghitung jarak antara dua titik ini, kami menggunakan rumus jarak euclidean biasa yang dapat dibaca di link berikut: https://wikimedia.org/api/rest_v1/media/math/render/svg/2e0c9ce1b3455cb9e92c6bad6684dbda02f69c82.\n",
        "\n",
        "Jaraknya adalah:\n",
        "\n",
        "Akar kuadrat dari ((5-1)^2 + (5-2)^2) = Akar kuadrat dari (16 + 9) = Akar kuadrat dari (25) = 5.\n",
        "\n",
        "Output: 'Jaraknya adalah 5'\n",
        "\n",
        "Jadi, saat kita menjalankan ```distance('(5,5),(1,2)')``` Outputnya adalah 'Jaraknya adalah 5'.\n",
        "\n",
        "##### Example 2:\n",
        "\n",
        "Input:\n",
        "\n",
        "'(0,-1), (-3,2)'\n",
        "\n",
        "TKoordinat pertama adalah (0,-1), koordinat kedua adalah (-3,2). Jarak antara mereka adalah:\n",
        "\n",
        "Akar kuadrat dari ((0- -3)^2 + (-1-2)^2) = Akar kuadrat dari (9 + 9) = Akar kuadrat dari (18) = 4,242640687\n",
        "\n",
        "Output: 'Jaraknya adalah 4.242640687'\n",
        "\n",
        "Jadi, saat kita menjalankan ```distance('(0,-1),(-3,2)')``` Outputnya adalah 'Jaraknya adalah 4.242640487'\n",
        "\n",
        "##### FAQ:\n",
        "\n",
        "- Question: \"Desimalnya dibuletin ga?\"\n",
        "- Answer: \"Ga usah peduliin format output desimalnya. Mau keluar berapa angka di belakang koma gpp kok. Yang penting value nya bener.\"\n",
        "- Question: \"Lha bedanya apa sama soal week 2?\"\n",
        "- Answer: \"Bedanya kali ini inputnya cuma 1, dan dia berupa teks (string), bukan list kyk minggu lalu. Semangat!\""
      ]
    },
    {
      "cell_type": "code",
      "source": [
        "import math\n",
        "\n",
        "def distance(koordinat_string):\n",
        "    koordinat = [tuple(map(int, x.strip('()').split(','))) for x in koordinat_string.split('), (')]\n",
        "\n",
        "    jarak = math.sqrt((koordinat[0][0] - koordinat[1][0])**2 + (koordinat[0][1] - koordinat[1][1])**2)\n",
        "\n",
        "    return f\"The distance is {int(jarak)}\" if jarak.is_integer() else f\"The distance is {jarak}\"\n"
      ],
      "metadata": {
        "id": "bzVYkGvp5Res"
      },
      "execution_count": 99,
      "outputs": []
    },
    {
      "cell_type": "code",
      "metadata": {
        "id": "qcACpDdPJdp8",
        "colab": {
          "base_uri": "https://localhost:8080/",
          "height": 35
        },
        "outputId": "76c07a41-1081-4d26-bc73-7e4c8ee68f57"
      },
      "source": [
        "### Example\n",
        "a = '(5,5), (1,2)'\n",
        "\n",
        "distance(a)\n",
        "\n",
        "# when you run this cell, it is expected that the output will be:\n",
        "# 'The distance is 5'"
      ],
      "execution_count": 96,
      "outputs": [
        {
          "output_type": "execute_result",
          "data": {
            "text/plain": [
              "'The distance is 5'"
            ],
            "application/vnd.google.colaboratory.intrinsic+json": {
              "type": "string"
            }
          },
          "metadata": {},
          "execution_count": 96
        }
      ]
    },
    {
      "cell_type": "code",
      "source": [
        "string = distance('(0,-1), (-3,2)')\n",
        "string"
      ],
      "metadata": {
        "colab": {
          "base_uri": "https://localhost:8080/",
          "height": 35
        },
        "id": "RxC6o1lO6B-1",
        "outputId": "dbe2a1d3-5fd4-446f-896f-93a574b83188"
      },
      "execution_count": 97,
      "outputs": [
        {
          "output_type": "execute_result",
          "data": {
            "text/plain": [
              "'The distance is 4.242640687119285'"
            ],
            "application/vnd.google.colaboratory.intrinsic+json": {
              "type": "string"
            }
          },
          "metadata": {},
          "execution_count": 97
        }
      ]
    },
    {
      "cell_type": "code",
      "metadata": {
        "id": "ObTz5xL7JdqB",
        "colab": {
          "base_uri": "https://localhost:8080/",
          "height": 35
        },
        "outputId": "47a7a820-06fd-4c90-f612-da3cd3fcfb5f"
      },
      "source": [
        "string = distance('(5,-5), (1,2)')\n",
        "string"
      ],
      "execution_count": 98,
      "outputs": [
        {
          "output_type": "execute_result",
          "data": {
            "text/plain": [
              "'The distance is 8.06225774829855'"
            ],
            "application/vnd.google.colaboratory.intrinsic+json": {
              "type": "string"
            }
          },
          "metadata": {},
          "execution_count": 98
        }
      ]
    },
    {
      "cell_type": "code",
      "source": [
        "string = 'A5CDEF5GHIJK'\n",
        "\n",
        "x1 = string[1]\n",
        "\n",
        "x1"
      ],
      "metadata": {
        "colab": {
          "base_uri": "https://localhost:8080/",
          "height": 35
        },
        "id": "ai-tfKoo7_8E",
        "outputId": "013a5a0a-b152-42b5-e3fa-c604324aac7d"
      },
      "execution_count": 93,
      "outputs": [
        {
          "output_type": "execute_result",
          "data": {
            "text/plain": [
              "'5'"
            ],
            "application/vnd.google.colaboratory.intrinsic+json": {
              "type": "string"
            }
          },
          "metadata": {},
          "execution_count": 93
        }
      ]
    },
    {
      "cell_type": "code",
      "metadata": {
        "id": "BTSyh-_9JdqF",
        "outputId": "e980d9a1-45db-4f39-d004-98adbe4397aa",
        "colab": {
          "base_uri": "https://localhost:8080/",
          "height": 35
        }
      },
      "source": [
        "string = 'A5C-EF5GHIJK'\n",
        "x2 = string[3]\n",
        "x2"
      ],
      "execution_count": 52,
      "outputs": [
        {
          "output_type": "execute_result",
          "data": {
            "text/plain": [
              "'-'"
            ],
            "application/vnd.google.colaboratory.intrinsic+json": {
              "type": "string"
            }
          },
          "metadata": {},
          "execution_count": 52
        }
      ]
    }
  ]
}